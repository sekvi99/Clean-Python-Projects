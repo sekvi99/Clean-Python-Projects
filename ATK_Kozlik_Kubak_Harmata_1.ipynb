{
  "nbformat": 4,
  "nbformat_minor": 0,
  "metadata": {
    "colab": {
      "name": "ATK_Kozlik_Kubak_Harmata_1.ipynb",
      "provenance": [],
      "collapsed_sections": []
    },
    "kernelspec": {
      "name": "python3",
      "display_name": "Python 3"
    },
    "language_info": {
      "name": "python"
    }
  },
  "cells": [
    {
      "cell_type": "markdown",
      "source": [
        "#Algorytmy Tomografi Kompuerowej - Symulacja Tomografu\n",
        "**Wykonali: Filip Koźlik, Wojciech Kubak, Wojciech Harmata**"
      ],
      "metadata": {
        "id": "Ac5SUUdZ5aM_"
      }
    },
    {
      "cell_type": "markdown",
      "source": [
        "**Funkcja sprawdzająca czy dany element jest typu float**"
      ],
      "metadata": {
        "id": "w366gJk45oZs"
      }
    },
    {
      "cell_type": "code",
      "source": [
        "#Funkcja wspomagająca walidację wprowadzanych danych\n",
        "def is_float(elem):\n",
        "  try:\n",
        "    float(elem)\n",
        "    return True\n",
        "  except ValueError:\n",
        "    return False"
      ],
      "metadata": {
        "id": "0KCiiFpv22Y6"
      },
      "execution_count": 37,
      "outputs": []
    },
    {
      "cell_type": "markdown",
      "source": [
        "**Klasa punkt utworzona na bazie wartości x oraz y**"
      ],
      "metadata": {
        "id": "67OMwRQn5uLB"
      }
    },
    {
      "cell_type": "code",
      "execution_count": 50,
      "metadata": {
        "id": "MSf87x8tIy_J"
      },
      "outputs": [],
      "source": [
        "# Podstawowy obiekt operacyjny \n",
        "class Point:\n",
        "  def __init__(self, x, y):\n",
        "    # Mapujemy wartośći do float'ów \n",
        "    self.x = x\n",
        "    self.y = y\n",
        "\n",
        "  #metoda property dla x\n",
        "  @property\n",
        "  def x(self):\n",
        "    return self._x\n",
        "\n",
        "  #setter walidacyjny dla pola x\n",
        "  @x.setter\n",
        "  def x(self, value):\n",
        "    if is_float(value) == False:\n",
        "      raise ValueError('Wrong value has been passed')\n",
        "    self._x = value\n",
        "\n",
        "  #metoda property dla y\n",
        "  @property\n",
        "  def y(self):\n",
        "    return self._y\n",
        "\n",
        "  #stter walidacyjny dla y\n",
        "  @y.setter\n",
        "  def y(self, value):\n",
        "    if is_float(value) == False:\n",
        "      raise ValueError('Wrong value has been passed')\n",
        "    self._y = value\n",
        "  \n",
        "\n",
        "  # Zwróć tuple z wartościami punktu\n",
        "  def get_values(self):\n",
        "    return (self.x, self.y)\n",
        "  # Wyświetl współrzędne punktu\n",
        "  def __str__(self):\n",
        "    return f'Point --> (X:{self.x}, Y:{self.y})'"
      ]
    },
    {
      "cell_type": "markdown",
      "source": [
        "**Lista punktów utworzona według instrukcji**"
      ],
      "metadata": {
        "id": "-gMdDzub54Kj"
      }
    },
    {
      "cell_type": "code",
      "source": [
        "# Tworzymy obiekty klasy Point dla każdych 2 współrzędnym prostokąta\n",
        "points = [[Point(-0.7, 0.2), Point(-0.4, -0.5)],\n",
        "          [Point(-0.2, 0.1), Point(0.2, -0.1)],\n",
        "          [Point(-0.2, 0.5), Point(0.2, 0.3)],\n",
        "          [Point(0.4, 0.7), Point(0.7, 0.4)]]\n",
        "# Sprawdzamy poprawność utworzonych obiektów\n",
        "for pointx, pointy in points:\n",
        "  # Każdy wypisany wiersz stanowi współrzędne kolejnego prostokąta\n",
        "  print(pointx, pointy)"
      ],
      "metadata": {
        "colab": {
          "base_uri": "https://localhost:8080/"
        },
        "id": "WNk-EEr8OjHW",
        "outputId": "6a42b375-554c-4b44-e5ab-53017f995be0"
      },
      "execution_count": 51,
      "outputs": [
        {
          "output_type": "stream",
          "name": "stdout",
          "text": [
            "Point --> (X:-0.7, Y:0.2) Point --> (X:-0.4, Y:-0.5)\n",
            "Point --> (X:-0.2, Y:0.1) Point --> (X:0.2, Y:-0.1)\n",
            "Point --> (X:-0.2, Y:0.5) Point --> (X:0.2, Y:0.3)\n",
            "Point --> (X:0.4, Y:0.7) Point --> (X:0.7, Y:0.4)\n"
          ]
        }
      ]
    },
    {
      "cell_type": "markdown",
      "source": [
        "**Klasa prostokąta utworzona na bazie klasy punkt**"
      ],
      "metadata": {
        "id": "LsWzUH-r556a"
      }
    },
    {
      "cell_type": "code",
      "source": [
        "# Prostokąt tworzony na podstawie 2 punktów\n",
        "# p1 --> lewy górny, p2 --> prawy dolny\n",
        "class Rectangle:\n",
        "  # Śledzimy ilość utworzonych obiektów\n",
        "  rectangles_num = 0\n",
        "  def __init__(self, p1, p2, absorption):\n",
        "    # Inicjalizujemy podstawowe punkty jako tuple z wartościami\n",
        "    self.p1 = p1.get_values()\n",
        "    self.p2 = p2.get_values()\n",
        "    # Na podstawie dwóch powyższych punktów tworzymy 2 ostatnie\n",
        "    self.p3 = (self.p1[0], self.p2[1])\n",
        "    self.p4 = (self.p2[0], self.p1[1])\n",
        "    # Inicjalizujemy wartość absporpcji prostokąta\n",
        "    # Mapujemy na float() w celu dokładniejszych obliczeń\n",
        "    self.absorption = float(absorption)\n",
        "    # Unikalna nazwa dla każdego prostokątka\n",
        "    Rectangle.rectangles_num += 1\n",
        "    self.name = 'Rectangle_' + str(Rectangle.rectangles_num)\n",
        "  # Wyświelt informacje o obiekcie\n",
        "  def __str__(self):\n",
        "    return f'''Rectangle points:\n",
        "    Point 1 --> Top left --> {self.p1}\n",
        "    Point 2 --> Bottom right --> {self.p2}\n",
        "    Point 3 --> Bottom left --> {self.p3}\n",
        "    Point 4 --> Top right --> {self.p4}\n",
        "    Absorbtion --> {self.absorption}'''\n",
        "  # Sprawdzamy czy podany punkt (value_x, value_y) leży na ścianie prostokątka\n",
        "  # Jeżeli leży na boku --> True, jeżeli nie --> False\n",
        "  def if_layes(self, value_x, value_y):\n",
        "    # Punkt leży na górnym boku prostokątka\n",
        "    if self.p1[0] <= value_x <= self.p4[0] and value_y == self.p1[1]:\n",
        "        return True\n",
        "    # Punkt leży na dolnym boku prostokątka\n",
        "    if self.p3[0] <= value_x <= self.p2[0] and value_y == self.p3[1]:\n",
        "        return True\n",
        "    # Punkt leży na lewym boku prostokątka\n",
        "    if self.p3[1] <= value_y <= self.p1[1] and value_x == self.p1[0]:\n",
        "        return True\n",
        "    # Punkt leży na prawym boku prostokątka\n",
        "    if self.p2[1] <= value_y <= self.p4[1] and value_x == self.p4[0]:\n",
        "        return True\n",
        "    # Punkt nie leży na prostokącie\n",
        "    else:\n",
        "        return False"
      ],
      "metadata": {
        "id": "QWAWnfkfJQHr"
      },
      "execution_count": 52,
      "outputs": []
    },
    {
      "cell_type": "markdown",
      "source": [
        "**Utworzenie listy prostokątów według instrukcji**"
      ],
      "metadata": {
        "id": "mExGP4tt5_6D"
      }
    },
    {
      "cell_type": "code",
      "source": [
        "# Inicjalizujemy listę do zapisywania obiektów klasy Rectangle\n",
        "rectangles = list()\n",
        "# Iterujemy przez zestawy punktów\n",
        "for i in range(len(points)):\n",
        "  # Tworzymy tymczasowe zmienne dla punktów\n",
        "  point_A, point_B = points[i][0], points[i][1]\n",
        "  # Tworzymy obiekt klasy rectangle\n",
        "  rectangle = Rectangle(point_A, point_B, i+1)\n",
        "  # Dodajemy obiekt do listy\n",
        "  rectangles.append(rectangle)\n",
        "# Wyświetl przykładowy obiekt klasy Rectangle\n",
        "print(rectangles[0])"
      ],
      "metadata": {
        "colab": {
          "base_uri": "https://localhost:8080/"
        },
        "id": "Ot9570ZbVwev",
        "outputId": "0cc6c45d-53ba-4211-db95-62b49b267184"
      },
      "execution_count": 53,
      "outputs": [
        {
          "output_type": "stream",
          "name": "stdout",
          "text": [
            "Rectangle points:\n",
            "    Point 1 --> Top left --> (-0.7, 0.2)\n",
            "    Point 2 --> Bottom right --> (-0.4, -0.5)\n",
            "    Point 3 --> Bottom left --> (-0.7, -0.5)\n",
            "    Point 4 --> Top right --> (-0.4, 0.2)\n",
            "    Absorbtion --> 1.0\n"
          ]
        }
      ]
    },
    {
      "cell_type": "markdown",
      "source": [
        "**Klasa reprezentująca przestrzeń, w której zawarte są nadajniki oraz odbiorniki**"
      ],
      "metadata": {
        "id": "48BHzsrv6DzK"
      }
    },
    {
      "cell_type": "code",
      "source": [
        "# Klasa Surface reprezenuje siatkę prostych na \n",
        "class Surface:\n",
        "  def __init__(self, lines):\n",
        "    # Inicjalizuj listę 25 linii tworzących siatkę\n",
        "    self.lines = lines\n",
        "  # Wyświetl informacje o planszy\n",
        "  def __str__(self):\n",
        "    return f'''Surface:\n",
        "    first line --> {self.lines[0]}\n",
        "    last line ---> {self.lines[-1]}\n",
        "    number of lines --> {len(self.lines)}'''\n",
        "\n",
        "  def print_lines(self):\n",
        "    for point in self.lines:\n",
        "      print(f'Transmitter[{point[0][0]}, {point[0][1]}] Receiver[{point[1][0]}, {point[1][1]}]')"
      ],
      "metadata": {
        "id": "ZZ0_GsLnUydp"
      },
      "execution_count": 54,
      "outputs": []
    },
    {
      "cell_type": "code",
      "source": [
        "import numpy as np\n",
        "# Określ granice utworzonej siatki\n",
        "min_boundry, max_boundry = -1, 1\n",
        "# Utwórz punkty w równej odległości od siebie\n",
        "line = np.linspace(min_boundry, max_boundry, 5)\n",
        "# Inicjalizuj 2 listy do zapełnania punktami\n",
        "# Pierwsza lista reprezentuje nadajniki, a druga odbiorniki\n",
        "list1, list2 = list(), list()\n",
        "# Uzupełnij obie listy punktami\n",
        "for element in line:\n",
        "  p1 = Point(element, -1)\n",
        "  p2 = Point(element, 1)\n",
        "  list1.append(p1)\n",
        "  list2.append(p2)\n",
        "# Inicjalizuj listę przechowującą wszystkie proste\n",
        "lines = list()\n",
        "# Utwórz 25 prostych składających się z 2 punktów każda\n",
        "for i in range(len(list1)):\n",
        "  for j in range(len(list2)):\n",
        "    lines.append([list1[i].get_values(), list2[j].get_values()])\n",
        "# Utwórz obiekt klasy Surface\n",
        "# Obiekt przechowuje wszystkie utworzone linie\n",
        "surface = Surface(lines)\n",
        "# Wyświetl informacje o obiekcie surface\n",
        "print(surface)\n",
        "surface.print_lines()"
      ],
      "metadata": {
        "colab": {
          "base_uri": "https://localhost:8080/"
        },
        "id": "6VPIjpREU2VP",
        "outputId": "e2d2f47b-5c99-4b87-e160-fe48e35e5039"
      },
      "execution_count": 55,
      "outputs": [
        {
          "output_type": "stream",
          "name": "stdout",
          "text": [
            "Surface:\n",
            "    first line --> [(-1.0, -1), (-1.0, 1)]\n",
            "    last line ---> [(1.0, -1), (1.0, 1)]\n",
            "    number of lines --> 25\n",
            "Transmitter[-1.0, -1] Receiver[-1.0, 1]\n",
            "Transmitter[-1.0, -1] Receiver[-0.5, 1]\n",
            "Transmitter[-1.0, -1] Receiver[0.0, 1]\n",
            "Transmitter[-1.0, -1] Receiver[0.5, 1]\n",
            "Transmitter[-1.0, -1] Receiver[1.0, 1]\n",
            "Transmitter[-0.5, -1] Receiver[-1.0, 1]\n",
            "Transmitter[-0.5, -1] Receiver[-0.5, 1]\n",
            "Transmitter[-0.5, -1] Receiver[0.0, 1]\n",
            "Transmitter[-0.5, -1] Receiver[0.5, 1]\n",
            "Transmitter[-0.5, -1] Receiver[1.0, 1]\n",
            "Transmitter[0.0, -1] Receiver[-1.0, 1]\n",
            "Transmitter[0.0, -1] Receiver[-0.5, 1]\n",
            "Transmitter[0.0, -1] Receiver[0.0, 1]\n",
            "Transmitter[0.0, -1] Receiver[0.5, 1]\n",
            "Transmitter[0.0, -1] Receiver[1.0, 1]\n",
            "Transmitter[0.5, -1] Receiver[-1.0, 1]\n",
            "Transmitter[0.5, -1] Receiver[-0.5, 1]\n",
            "Transmitter[0.5, -1] Receiver[0.0, 1]\n",
            "Transmitter[0.5, -1] Receiver[0.5, 1]\n",
            "Transmitter[0.5, -1] Receiver[1.0, 1]\n",
            "Transmitter[1.0, -1] Receiver[-1.0, 1]\n",
            "Transmitter[1.0, -1] Receiver[-0.5, 1]\n",
            "Transmitter[1.0, -1] Receiver[0.0, 1]\n",
            "Transmitter[1.0, -1] Receiver[0.5, 1]\n",
            "Transmitter[1.0, -1] Receiver[1.0, 1]\n"
          ]
        }
      ]
    },
    {
      "cell_type": "markdown",
      "source": [
        "**Klasa pomocnicza realizująca operacje matematyczne** \\\n",
        "Wyznaczamy współczynniki prostej określającej bok prostokąta, aby następnie z użyciem metody intersection sprawdzić, czy prosta posiada punkt przecięcia w naszej przestrzeni z prostą zadeklarowaną w klasie surface."
      ],
      "metadata": {
        "id": "HokC1yD96LXx"
      }
    },
    {
      "cell_type": "code",
      "source": [
        "import math\n",
        "# Klasa zawiera zbiór przydatnych w trakcie realizacji projektu funkcji matematycznych\n",
        "class HelperFunctions:\n",
        "  # Funkcja zwraca parametry prostej\n",
        "  @staticmethod\n",
        "  def get_line(p1, p2):\n",
        "    A = (p1[1] - p2[1])\n",
        "    B = (p2[0] - p1[0])\n",
        "    C = (p1[0] * p2[1] - p2[0] * p1[1])\n",
        "    return A, B, -C\n",
        "  # Funkcja zwraca punkt przecięcia 2 prostych\n",
        "  @staticmethod\n",
        "  def intersection(L1, L2):\n",
        "    D  = L1[0] * L2[1] - L1[1] * L2[0]\n",
        "    Dx = L1[2] * L2[1] - L1[1] * L2[2]\n",
        "    Dy = L1[0] * L2[2] - L1[2] * L2[0]\n",
        "    # Jeżeli istnieje punkt przecięcia zwrócony zostaje punkt\n",
        "    if D != 0:\n",
        "        x = Dx / D\n",
        "        y = Dy / D\n",
        "        # Wyjściowe wartości float punktów zostają zaokrąglone\n",
        "        # Ma to na celu uniknięcie błędów w procesie sprawdzania czy punkt nachodzi na bok prostokąta\n",
        "        return [round(x,2),round(y,2)]\n",
        "    else:\n",
        "        # Jeżeli proste nie przecinają się zwrócona zostaje wartość [inf, -inf]\n",
        "        return [float('inf'), float('-inf')]\n",
        "  # Funkcja oblicza odległość pomiędzy dwoma punktami\n",
        "  @staticmethod\n",
        "  def get_section_length(p1, p2):\n",
        "    return (math.sqrt(((p1[0] - p2[0]) ** 2)+((p1[1] - p2[1]) ** 2)) * key1)"
      ],
      "metadata": {
        "id": "D9j_O1YJwpHw"
      },
      "execution_count": 56,
      "outputs": []
    },
    {
      "cell_type": "markdown",
      "source": [
        "Sprawdzenie dla każdego z czterech prostokątów punktów przecięcia z prostymi."
      ],
      "metadata": {
        "id": "RYbxOSBX6l8I"
      }
    },
    {
      "cell_type": "code",
      "source": [
        "# Inicjalizujemy słowik do którego będziemy zapisywać miejsca przecięć dla każdej linii\n",
        "line_dict = dict()\n",
        "# Iterujemy po każdej z 25 lini, przy pomocy enumerate() śledzimy index\n",
        "for index, line in enumerate(list(surface.lines)):\n",
        "  # Określamy parametry prostej na podstawie jej 2 punktów\n",
        "  field_line = HelperFunctions.get_line(line[0], line[1])\n",
        "  # Inicjalizujemy słownik dla wszystkich przecięć z wybraną prostą\n",
        "  intersection_rectangles = dict()\n",
        "  # Iterujemy bo wszystkich 4 prostokątach, śledzimy również index\n",
        "  for ind, rectangle in enumerate(rectangles):\n",
        "    # Określamy współrzędne prostych dla każdych z boku prostokąta\n",
        "    AD = HelperFunctions.get_line(rectangle.p1, rectangle.p4)\n",
        "    AC = HelperFunctions.get_line(rectangle.p1, rectangle.p3)\n",
        "    BC = HelperFunctions.get_line(rectangle.p2, rectangle.p3)\n",
        "    BD = HelperFunctions.get_line(rectangle.p2, rectangle.p4)\n",
        "    # Dodajemy je do listy\n",
        "    rectangle_sides = [AD, AC, BC, BD]\n",
        "    # Inicjalizujemy listę z rekordami miejsca przecięć\n",
        "    intersection_rectangle = list()\n",
        "    # Iterujemy po każdym boku prostokąta\n",
        "    for r in rectangle_sides:\n",
        "      # Obliczamy współrzędne potencjalnego punktu przecięcia wektora projekcji i każdego boku prostokąta\n",
        "      intersection_points = HelperFunctions.intersection(field_line, r)\n",
        "      # Jeżeli punkt faktycznie leży na boku prostokąta i nie ma go jeszcze w liście, dodajemy go\n",
        "      if rectangle.if_layes(intersection_points[0], intersection_points[1]) and intersection_points not in intersection_rectangle:\n",
        "          intersection_rectangle.append(intersection_points)\n",
        "    # Dodajemy wartości do słownika --> {wartość absorpcji prostokąta : [punkty przecięcia z prostokątem]}\n",
        "    intersection_rectangles[rectangle.absorption] = intersection_rectangle\n",
        "    # Dodajemy wartości do słownika --> {numer wektora projekcji: {wartość absorpcji prostokąta: [punkty przecięcia z prostokątem]}}\n",
        "  line_dict[index] = intersection_rectangles\n",
        "\n",
        "# Wybieramy wektor projekcji\n",
        "vector_index = 4\n",
        "print(f'Projection vector number: {vector_index}')\n",
        "# Wypisujemy wartość jego absorpcji oraz punkty wejścia i wyjścia z prostokątów\n",
        "# Jeżel zamiast punktów jest pusta lista, oznacza to, że przecięcie wektora z prostokątem nie występuje\n",
        "# Kolejne prostokąty są wyświetlane zgodnie z ich inicjalizowaną kolejnością\n",
        "for key, value in line_dict[vector_index].items():\n",
        "  print(f'Rectangle absorption capacity: {key}, intersection points --> {value}')"
      ],
      "metadata": {
        "id": "aS13pA3lwj45",
        "colab": {
          "base_uri": "https://localhost:8080/"
        },
        "outputId": "2b76e669-445b-4ca8-c468-9b3a8beb80ce"
      },
      "execution_count": 57,
      "outputs": [
        {
          "output_type": "stream",
          "name": "stdout",
          "text": [
            "Projection vector number: 4\n",
            "Rectangle absorption capacity: 1.0, intersection points --> [[-0.5, -0.5], [-0.4, -0.4]]\n",
            "Rectangle absorption capacity: 2.0, intersection points --> [[0.1, 0.1], [-0.1, -0.1]]\n",
            "Rectangle absorption capacity: 3.0, intersection points --> []\n",
            "Rectangle absorption capacity: 4.0, intersection points --> [[0.7, 0.7], [0.4, 0.4]]\n"
          ]
        }
      ]
    },
    {
      "cell_type": "markdown",
      "source": [
        "Wypisanie wartości utraconej energii poprzez przejście przez prostokąt o określonej w treści mocy absorbcji obiektu."
      ],
      "metadata": {
        "id": "bOHzrJYK6xzc"
      }
    },
    {
      "cell_type": "code",
      "source": [
        "# Inicjalizujemy słownik do zapisywania rezultatów\n",
        "results_dictionary = dict()\n",
        "# Iterujemy po kluczach i wartościach w line_dict\n",
        "for key, line in line_dict.items():\n",
        "  # Inicjalizujemy zmienną do zapisywania wartości strat energii dla każdego wektora\n",
        "  energy_loss = 0\n",
        "  # Iterujemy po każdym prostokącie i zbieramy zapisane punkty\n",
        "  for key1, rectangle in line.items():\n",
        "    # Wprowadzamy warunek sprawdzający czy rekord ma odpowiednią długość\n",
        "    # Jeżeli wartość jest równa 0 --> mamy do czynienia z pustą listą, czyli brakiem przecięcia z prostokątem\n",
        "    # Jeżeli wartość jest równa 1 --> wektor przecina tylko wierzchołek, więc długość odcinka jest równa 0\n",
        "    if len(rectangle) == 2:\n",
        "      # Obliczamy stratę energii dla każdego z 25 wektorów\n",
        "      energy_loss += HelperFunctions.get_section_length(rectangle[0], rectangle[1])\n",
        "    # Dodajemy rezultaty do słownika w postaci --> {numer wektora projekcji: wartość straty energii}\n",
        "  results_dictionary[key] = round(energy_loss,6)\n",
        "\n",
        "# Iterujemy po kluczach i wartościach w słowniku z wynikami\n",
        "for key, value in results_dictionary.items():\n",
        "  # Wyświetlamy numer wektora projekcji oraz jego wartość straty energii\n",
        "  print(f'Projecton vector: {key+1} --> energy loss value: {value}')"
      ],
      "metadata": {
        "colab": {
          "base_uri": "https://localhost:8080/"
        },
        "id": "zael-3JF5hl1",
        "outputId": "66dde170-e01f-48b0-9ffe-0b4c6cd85924"
      },
      "execution_count": 58,
      "outputs": [
        {
          "output_type": "stream",
          "name": "stdout",
          "text": [
            "Projecton vector: 1 --> energy loss value: 0\n",
            "Projecton vector: 2 --> energy loss value: 0\n",
            "Projecton vector: 3 --> energy loss value: 0.67082\n",
            "Projecton vector: 4 --> energy loss value: 1.212507\n",
            "Projecton vector: 5 --> energy loss value: 2.404163\n",
            "Projecton vector: 6 --> energy loss value: 0.310483\n",
            "Projecton vector: 7 --> energy loss value: 0.7\n",
            "Projecton vector: 8 --> energy loss value: 0.626418\n",
            "Projecton vector: 9 --> energy loss value: 0.782624\n",
            "Projecton vector: 10 --> energy loss value: 1.072111\n",
            "Projecton vector: 11 --> energy loss value: 0.447214\n",
            "Projecton vector: 12 --> energy loss value: 0\n",
            "Projecton vector: 13 --> energy loss value: 1.0\n",
            "Projecton vector: 14 --> energy loss value: 0.407922\n",
            "Projecton vector: 15 --> energy loss value: 0\n",
            "Projecton vector: 16 --> energy loss value: 0.072111\n",
            "Projecton vector: 17 --> energy loss value: 0.782624\n",
            "Projecton vector: 18 --> energy loss value: 0.626418\n",
            "Projecton vector: 19 --> energy loss value: 1.2\n",
            "Projecton vector: 20 --> energy loss value: 0\n",
            "Projecton vector: 21 --> energy loss value: 0.565685\n",
            "Projecton vector: 22 --> energy loss value: 0.840486\n",
            "Projecton vector: 23 --> energy loss value: 0\n",
            "Projecton vector: 24 --> energy loss value: 1.241934\n",
            "Projecton vector: 25 --> energy loss value: 0\n"
          ]
        }
      ]
    },
    {
      "cell_type": "code",
      "source": [
        ""
      ],
      "metadata": {
        "id": "hQx0J5s42F0d"
      },
      "execution_count": null,
      "outputs": []
    }
  ]
}